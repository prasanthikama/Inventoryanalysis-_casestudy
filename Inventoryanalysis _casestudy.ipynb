{
 "cells": [
  {
   "cell_type": "code",
   "execution_count": 50,
   "id": "fa81dc57",
   "metadata": {},
   "outputs": [],
   "source": [
    "import numpy as np\n",
    "import pandas as pd\n",
    "import seaborn as sns\n",
    "import matplotlib.pyplot as plt"
   ]
  },
  {
   "cell_type": "markdown",
   "id": "1e2fbbbb",
   "metadata": {},
   "source": [
    "# Data collection using csv files"
   ]
  },
  {
   "cell_type": "code",
   "execution_count": 51,
   "id": "f7fbaf28",
   "metadata": {},
   "outputs": [],
   "source": [
    "df_InvoiPurchases=pd.read_csv(\"C:\\\\Users\\\\prasa\\\\OneDrive\\\\Documents\\\\Analysis of profit & loss\\\\InvoicePurchases12312016.csv\")\n"
   ]
  },
  {
   "cell_type": "code",
   "execution_count": 52,
   "id": "12f21ba3",
   "metadata": {},
   "outputs": [
    {
     "data": {
      "text/html": [
       "<div>\n",
       "<style scoped>\n",
       "    .dataframe tbody tr th:only-of-type {\n",
       "        vertical-align: middle;\n",
       "    }\n",
       "\n",
       "    .dataframe tbody tr th {\n",
       "        vertical-align: top;\n",
       "    }\n",
       "\n",
       "    .dataframe thead th {\n",
       "        text-align: right;\n",
       "    }\n",
       "</style>\n",
       "<table border=\"1\" class=\"dataframe\">\n",
       "  <thead>\n",
       "    <tr style=\"text-align: right;\">\n",
       "      <th></th>\n",
       "      <th>VendorNumber</th>\n",
       "      <th>VendorName</th>\n",
       "      <th>InvoiceDate</th>\n",
       "      <th>PONumber</th>\n",
       "      <th>PODate</th>\n",
       "      <th>PayDate</th>\n",
       "      <th>Quantity</th>\n",
       "      <th>Dollars</th>\n",
       "      <th>Freight</th>\n",
       "      <th>Approval</th>\n",
       "    </tr>\n",
       "  </thead>\n",
       "  <tbody>\n",
       "    <tr>\n",
       "      <th>0</th>\n",
       "      <td>105</td>\n",
       "      <td>ALTAMAR BRANDS LLC</td>\n",
       "      <td>2016-01-04</td>\n",
       "      <td>8124</td>\n",
       "      <td>2015-12-21</td>\n",
       "      <td>2016-02-16</td>\n",
       "      <td>6</td>\n",
       "      <td>214.26</td>\n",
       "      <td>3.47</td>\n",
       "      <td>NaN</td>\n",
       "    </tr>\n",
       "    <tr>\n",
       "      <th>1</th>\n",
       "      <td>4466</td>\n",
       "      <td>AMERICAN VINTAGE BEVERAGE</td>\n",
       "      <td>2016-01-07</td>\n",
       "      <td>8137</td>\n",
       "      <td>2015-12-22</td>\n",
       "      <td>2016-02-21</td>\n",
       "      <td>15</td>\n",
       "      <td>140.55</td>\n",
       "      <td>8.57</td>\n",
       "      <td>NaN</td>\n",
       "    </tr>\n",
       "    <tr>\n",
       "      <th>2</th>\n",
       "      <td>388</td>\n",
       "      <td>ATLANTIC IMPORTING COMPANY</td>\n",
       "      <td>2016-01-09</td>\n",
       "      <td>8169</td>\n",
       "      <td>2015-12-24</td>\n",
       "      <td>2016-02-16</td>\n",
       "      <td>5</td>\n",
       "      <td>106.60</td>\n",
       "      <td>4.61</td>\n",
       "      <td>NaN</td>\n",
       "    </tr>\n",
       "    <tr>\n",
       "      <th>3</th>\n",
       "      <td>480</td>\n",
       "      <td>BACARDI USA INC</td>\n",
       "      <td>2016-01-12</td>\n",
       "      <td>8106</td>\n",
       "      <td>2015-12-20</td>\n",
       "      <td>2016-02-05</td>\n",
       "      <td>10100</td>\n",
       "      <td>137483.78</td>\n",
       "      <td>2935.20</td>\n",
       "      <td>NaN</td>\n",
       "    </tr>\n",
       "    <tr>\n",
       "      <th>4</th>\n",
       "      <td>516</td>\n",
       "      <td>BANFI PRODUCTS CORP</td>\n",
       "      <td>2016-01-07</td>\n",
       "      <td>8170</td>\n",
       "      <td>2015-12-24</td>\n",
       "      <td>2016-02-12</td>\n",
       "      <td>1935</td>\n",
       "      <td>15527.25</td>\n",
       "      <td>429.20</td>\n",
       "      <td>NaN</td>\n",
       "    </tr>\n",
       "  </tbody>\n",
       "</table>\n",
       "</div>"
      ],
      "text/plain": [
       "   VendorNumber                   VendorName InvoiceDate  PONumber  \\\n",
       "0           105  ALTAMAR BRANDS LLC           2016-01-04      8124   \n",
       "1          4466  AMERICAN VINTAGE BEVERAGE    2016-01-07      8137   \n",
       "2           388  ATLANTIC IMPORTING COMPANY   2016-01-09      8169   \n",
       "3           480  BACARDI USA INC              2016-01-12      8106   \n",
       "4           516  BANFI PRODUCTS CORP          2016-01-07      8170   \n",
       "\n",
       "       PODate     PayDate  Quantity    Dollars  Freight Approval  \n",
       "0  2015-12-21  2016-02-16         6     214.26     3.47      NaN  \n",
       "1  2015-12-22  2016-02-21        15     140.55     8.57      NaN  \n",
       "2  2015-12-24  2016-02-16         5     106.60     4.61      NaN  \n",
       "3  2015-12-20  2016-02-05     10100  137483.78  2935.20      NaN  \n",
       "4  2015-12-24  2016-02-12      1935   15527.25   429.20      NaN  "
      ]
     },
     "execution_count": 52,
     "metadata": {},
     "output_type": "execute_result"
    }
   ],
   "source": [
    "df_InvoiPurchases.head(5)\n"
   ]
  },
  {
   "cell_type": "markdown",
   "id": "0dcfaeb8",
   "metadata": {},
   "source": [
    "#                                  # Exploratory Data Analysis (EDA) #"
   ]
  },
  {
   "cell_type": "code",
   "execution_count": 54,
   "id": "bc55719f",
   "metadata": {},
   "outputs": [
    {
     "data": {
      "text/plain": [
       "0       217.73\n",
       "1       149.12\n",
       "2       111.21\n",
       "3    140418.98\n",
       "4     15956.45\n",
       "Name: Total Amount, dtype: float64"
      ]
     },
     "execution_count": 54,
     "metadata": {},
     "output_type": "execute_result"
    }
   ],
   "source": [
    "df_InvoiPurchases['Total Amount'] = df_InvoiPurchases['Dollars'] + df_InvoiPurchases['Freight']\n",
    "df_InvoiPurchases['Total Amount'].head(5) "
   ]
  },
  {
   "cell_type": "code",
   "execution_count": 55,
   "id": "9fc4025a",
   "metadata": {},
   "outputs": [
    {
     "data": {
      "text/html": [
       "<div>\n",
       "<style scoped>\n",
       "    .dataframe tbody tr th:only-of-type {\n",
       "        vertical-align: middle;\n",
       "    }\n",
       "\n",
       "    .dataframe tbody tr th {\n",
       "        vertical-align: top;\n",
       "    }\n",
       "\n",
       "    .dataframe thead th {\n",
       "        text-align: right;\n",
       "    }\n",
       "</style>\n",
       "<table border=\"1\" class=\"dataframe\">\n",
       "  <thead>\n",
       "    <tr style=\"text-align: right;\">\n",
       "      <th></th>\n",
       "      <th>VendorNumber</th>\n",
       "      <th>PONumber</th>\n",
       "      <th>Quantity</th>\n",
       "      <th>Dollars</th>\n",
       "      <th>Freight</th>\n",
       "      <th>Total Amount</th>\n",
       "    </tr>\n",
       "  </thead>\n",
       "  <tbody>\n",
       "    <tr>\n",
       "      <th>count</th>\n",
       "      <td>5543.00000</td>\n",
       "      <td>5543.000000</td>\n",
       "      <td>5543.000000</td>\n",
       "      <td>5.543000e+03</td>\n",
       "      <td>5543.000000</td>\n",
       "      <td>5.543000e+03</td>\n",
       "    </tr>\n",
       "    <tr>\n",
       "      <th>mean</th>\n",
       "      <td>20662.75212</td>\n",
       "      <td>10889.419087</td>\n",
       "      <td>6058.880931</td>\n",
       "      <td>5.807338e+04</td>\n",
       "      <td>295.954301</td>\n",
       "      <td>5.836934e+04</td>\n",
       "    </tr>\n",
       "    <tr>\n",
       "      <th>std</th>\n",
       "      <td>34582.15841</td>\n",
       "      <td>1600.859969</td>\n",
       "      <td>14453.338164</td>\n",
       "      <td>1.402340e+05</td>\n",
       "      <td>713.585093</td>\n",
       "      <td>1.409371e+05</td>\n",
       "    </tr>\n",
       "    <tr>\n",
       "      <th>min</th>\n",
       "      <td>2.00000</td>\n",
       "      <td>8106.000000</td>\n",
       "      <td>1.000000</td>\n",
       "      <td>4.140000e+00</td>\n",
       "      <td>0.020000</td>\n",
       "      <td>4.160000e+00</td>\n",
       "    </tr>\n",
       "    <tr>\n",
       "      <th>25%</th>\n",
       "      <td>3089.00000</td>\n",
       "      <td>9503.500000</td>\n",
       "      <td>83.000000</td>\n",
       "      <td>9.678100e+02</td>\n",
       "      <td>5.020000</td>\n",
       "      <td>9.724100e+02</td>\n",
       "    </tr>\n",
       "    <tr>\n",
       "      <th>50%</th>\n",
       "      <td>7240.00000</td>\n",
       "      <td>10890.000000</td>\n",
       "      <td>423.000000</td>\n",
       "      <td>4.765450e+03</td>\n",
       "      <td>24.730000</td>\n",
       "      <td>4.790710e+03</td>\n",
       "    </tr>\n",
       "    <tr>\n",
       "      <th>75%</th>\n",
       "      <td>10754.00000</td>\n",
       "      <td>12275.500000</td>\n",
       "      <td>5100.500000</td>\n",
       "      <td>4.458718e+04</td>\n",
       "      <td>229.660000</td>\n",
       "      <td>4.479450e+04</td>\n",
       "    </tr>\n",
       "    <tr>\n",
       "      <th>max</th>\n",
       "      <td>201359.00000</td>\n",
       "      <td>13661.000000</td>\n",
       "      <td>141660.000000</td>\n",
       "      <td>1.660436e+06</td>\n",
       "      <td>8468.220000</td>\n",
       "      <td>1.668904e+06</td>\n",
       "    </tr>\n",
       "  </tbody>\n",
       "</table>\n",
       "</div>"
      ],
      "text/plain": [
       "       VendorNumber      PONumber       Quantity       Dollars      Freight  \\\n",
       "count    5543.00000   5543.000000    5543.000000  5.543000e+03  5543.000000   \n",
       "mean    20662.75212  10889.419087    6058.880931  5.807338e+04   295.954301   \n",
       "std     34582.15841   1600.859969   14453.338164  1.402340e+05   713.585093   \n",
       "min         2.00000   8106.000000       1.000000  4.140000e+00     0.020000   \n",
       "25%      3089.00000   9503.500000      83.000000  9.678100e+02     5.020000   \n",
       "50%      7240.00000  10890.000000     423.000000  4.765450e+03    24.730000   \n",
       "75%     10754.00000  12275.500000    5100.500000  4.458718e+04   229.660000   \n",
       "max    201359.00000  13661.000000  141660.000000  1.660436e+06  8468.220000   \n",
       "\n",
       "       Total Amount  \n",
       "count  5.543000e+03  \n",
       "mean   5.836934e+04  \n",
       "std    1.409371e+05  \n",
       "min    4.160000e+00  \n",
       "25%    9.724100e+02  \n",
       "50%    4.790710e+03  \n",
       "75%    4.479450e+04  \n",
       "max    1.668904e+06  "
      ]
     },
     "execution_count": 55,
     "metadata": {},
     "output_type": "execute_result"
    }
   ],
   "source": [
    "df_InvoiPurchases.describe()"
   ]
  },
  {
   "cell_type": "code",
   "execution_count": 56,
   "id": "f322a93c",
   "metadata": {},
   "outputs": [
    {
     "data": {
      "text/plain": [
       "(5543, 11)"
      ]
     },
     "execution_count": 56,
     "metadata": {},
     "output_type": "execute_result"
    }
   ],
   "source": [
    " df_InvoiPurchases.shape"
   ]
  },
  {
   "cell_type": "code",
   "execution_count": 57,
   "id": "37fa547a",
   "metadata": {},
   "outputs": [
    {
     "name": "stdout",
     "output_type": "stream",
     "text": [
      "<class 'pandas.core.frame.DataFrame'>\n",
      "RangeIndex: 5543 entries, 0 to 5542\n",
      "Data columns (total 11 columns):\n",
      " #   Column        Non-Null Count  Dtype  \n",
      "---  ------        --------------  -----  \n",
      " 0   VendorNumber  5543 non-null   int64  \n",
      " 1   VendorName    5543 non-null   object \n",
      " 2   InvoiceDate   5543 non-null   object \n",
      " 3   PONumber      5543 non-null   int64  \n",
      " 4   PODate        5543 non-null   object \n",
      " 5   PayDate       5543 non-null   object \n",
      " 6   Quantity      5543 non-null   int64  \n",
      " 7   Dollars       5543 non-null   float64\n",
      " 8   Freight       5543 non-null   float64\n",
      " 9   Approval      374 non-null    object \n",
      " 10  Total Amount  5543 non-null   float64\n",
      "dtypes: float64(3), int64(3), object(5)\n",
      "memory usage: 476.5+ KB\n"
     ]
    }
   ],
   "source": [
    "df_InvoiPurchases.info(5)"
   ]
  },
  {
   "cell_type": "code",
   "execution_count": 58,
   "id": "edebce7e",
   "metadata": {},
   "outputs": [],
   "source": [
    "df_InvoiPurchases['InvoiceDate'] = pd.to_datetime(df_InvoiPurchases['InvoiceDate'])\n"
   ]
  },
  {
   "cell_type": "code",
   "execution_count": 59,
   "id": "a704539b",
   "metadata": {},
   "outputs": [],
   "source": [
    "df_InvoiPurchases['Total Amount'] = df_InvoiPurchases['Dollars'] + df_InvoiPurchases['Freight']"
   ]
  },
  {
   "cell_type": "code",
   "execution_count": 60,
   "id": "5b889dbd",
   "metadata": {},
   "outputs": [
    {
     "data": {
      "text/html": [
       "<div>\n",
       "<style scoped>\n",
       "    .dataframe tbody tr th:only-of-type {\n",
       "        vertical-align: middle;\n",
       "    }\n",
       "\n",
       "    .dataframe tbody tr th {\n",
       "        vertical-align: top;\n",
       "    }\n",
       "\n",
       "    .dataframe thead th {\n",
       "        text-align: right;\n",
       "    }\n",
       "</style>\n",
       "<table border=\"1\" class=\"dataframe\">\n",
       "  <thead>\n",
       "    <tr style=\"text-align: right;\">\n",
       "      <th></th>\n",
       "      <th>VendorNumber</th>\n",
       "      <th>VendorName</th>\n",
       "      <th>InvoiceDate</th>\n",
       "      <th>PONumber</th>\n",
       "      <th>PODate</th>\n",
       "      <th>PayDate</th>\n",
       "      <th>Quantity</th>\n",
       "      <th>Dollars</th>\n",
       "      <th>Freight</th>\n",
       "      <th>Approval</th>\n",
       "      <th>Total Amount</th>\n",
       "    </tr>\n",
       "  </thead>\n",
       "  <tbody>\n",
       "    <tr>\n",
       "      <th>0</th>\n",
       "      <td>105</td>\n",
       "      <td>ALTAMAR BRANDS LLC</td>\n",
       "      <td>2016-01-04</td>\n",
       "      <td>8124</td>\n",
       "      <td>2015-12-21</td>\n",
       "      <td>2016-02-16</td>\n",
       "      <td>6</td>\n",
       "      <td>214.26</td>\n",
       "      <td>3.47</td>\n",
       "      <td>NaN</td>\n",
       "      <td>217.73</td>\n",
       "    </tr>\n",
       "    <tr>\n",
       "      <th>1</th>\n",
       "      <td>4466</td>\n",
       "      <td>AMERICAN VINTAGE BEVERAGE</td>\n",
       "      <td>2016-01-07</td>\n",
       "      <td>8137</td>\n",
       "      <td>2015-12-22</td>\n",
       "      <td>2016-02-21</td>\n",
       "      <td>15</td>\n",
       "      <td>140.55</td>\n",
       "      <td>8.57</td>\n",
       "      <td>NaN</td>\n",
       "      <td>149.12</td>\n",
       "    </tr>\n",
       "  </tbody>\n",
       "</table>\n",
       "</div>"
      ],
      "text/plain": [
       "   VendorNumber                   VendorName InvoiceDate  PONumber  \\\n",
       "0           105  ALTAMAR BRANDS LLC           2016-01-04      8124   \n",
       "1          4466  AMERICAN VINTAGE BEVERAGE    2016-01-07      8137   \n",
       "\n",
       "       PODate     PayDate  Quantity  Dollars  Freight Approval  Total Amount  \n",
       "0  2015-12-21  2016-02-16         6   214.26     3.47      NaN        217.73  \n",
       "1  2015-12-22  2016-02-21        15   140.55     8.57      NaN        149.12  "
      ]
     },
     "execution_count": 60,
     "metadata": {},
     "output_type": "execute_result"
    }
   ],
   "source": [
    "df_InvoiPurchases.head(2)"
   ]
  },
  {
   "cell_type": "code",
   "execution_count": 61,
   "id": "9439de5c",
   "metadata": {},
   "outputs": [],
   "source": [
    "drop=['VendorNumber','PONumber','PODate']\n",
    "df_InvoiPurchases.drop(drop,axis=1,inplace=True)"
   ]
  },
  {
   "cell_type": "code",
   "execution_count": 62,
   "id": "340f945b",
   "metadata": {},
   "outputs": [
    {
     "data": {
      "text/html": [
       "<div>\n",
       "<style scoped>\n",
       "    .dataframe tbody tr th:only-of-type {\n",
       "        vertical-align: middle;\n",
       "    }\n",
       "\n",
       "    .dataframe tbody tr th {\n",
       "        vertical-align: top;\n",
       "    }\n",
       "\n",
       "    .dataframe thead th {\n",
       "        text-align: right;\n",
       "    }\n",
       "</style>\n",
       "<table border=\"1\" class=\"dataframe\">\n",
       "  <thead>\n",
       "    <tr style=\"text-align: right;\">\n",
       "      <th></th>\n",
       "      <th>VendorName</th>\n",
       "      <th>InvoiceDate</th>\n",
       "      <th>PayDate</th>\n",
       "      <th>Quantity</th>\n",
       "      <th>Dollars</th>\n",
       "      <th>Freight</th>\n",
       "      <th>Approval</th>\n",
       "      <th>Total Amount</th>\n",
       "    </tr>\n",
       "  </thead>\n",
       "  <tbody>\n",
       "    <tr>\n",
       "      <th>0</th>\n",
       "      <td>ALTAMAR BRANDS LLC</td>\n",
       "      <td>2016-01-04</td>\n",
       "      <td>2016-02-16</td>\n",
       "      <td>6</td>\n",
       "      <td>214.26</td>\n",
       "      <td>3.47</td>\n",
       "      <td>NaN</td>\n",
       "      <td>217.73</td>\n",
       "    </tr>\n",
       "    <tr>\n",
       "      <th>1</th>\n",
       "      <td>AMERICAN VINTAGE BEVERAGE</td>\n",
       "      <td>2016-01-07</td>\n",
       "      <td>2016-02-21</td>\n",
       "      <td>15</td>\n",
       "      <td>140.55</td>\n",
       "      <td>8.57</td>\n",
       "      <td>NaN</td>\n",
       "      <td>149.12</td>\n",
       "    </tr>\n",
       "    <tr>\n",
       "      <th>2</th>\n",
       "      <td>ATLANTIC IMPORTING COMPANY</td>\n",
       "      <td>2016-01-09</td>\n",
       "      <td>2016-02-16</td>\n",
       "      <td>5</td>\n",
       "      <td>106.60</td>\n",
       "      <td>4.61</td>\n",
       "      <td>NaN</td>\n",
       "      <td>111.21</td>\n",
       "    </tr>\n",
       "    <tr>\n",
       "      <th>3</th>\n",
       "      <td>BACARDI USA INC</td>\n",
       "      <td>2016-01-12</td>\n",
       "      <td>2016-02-05</td>\n",
       "      <td>10100</td>\n",
       "      <td>137483.78</td>\n",
       "      <td>2935.20</td>\n",
       "      <td>NaN</td>\n",
       "      <td>140418.98</td>\n",
       "    </tr>\n",
       "    <tr>\n",
       "      <th>4</th>\n",
       "      <td>BANFI PRODUCTS CORP</td>\n",
       "      <td>2016-01-07</td>\n",
       "      <td>2016-02-12</td>\n",
       "      <td>1935</td>\n",
       "      <td>15527.25</td>\n",
       "      <td>429.20</td>\n",
       "      <td>NaN</td>\n",
       "      <td>15956.45</td>\n",
       "    </tr>\n",
       "    <tr>\n",
       "      <th>...</th>\n",
       "      <td>...</td>\n",
       "      <td>...</td>\n",
       "      <td>...</td>\n",
       "      <td>...</td>\n",
       "      <td>...</td>\n",
       "      <td>...</td>\n",
       "      <td>...</td>\n",
       "      <td>...</td>\n",
       "    </tr>\n",
       "    <tr>\n",
       "      <th>5538</th>\n",
       "      <td>WEIN BAUER INC</td>\n",
       "      <td>2017-01-06</td>\n",
       "      <td>2017-02-10</td>\n",
       "      <td>90</td>\n",
       "      <td>1563.00</td>\n",
       "      <td>8.60</td>\n",
       "      <td>NaN</td>\n",
       "      <td>1571.60</td>\n",
       "    </tr>\n",
       "    <tr>\n",
       "      <th>5539</th>\n",
       "      <td>WESTERN SPIRITS BEVERAGE CO</td>\n",
       "      <td>2017-01-10</td>\n",
       "      <td>2017-02-18</td>\n",
       "      <td>4617</td>\n",
       "      <td>37300.48</td>\n",
       "      <td>186.50</td>\n",
       "      <td>NaN</td>\n",
       "      <td>37486.98</td>\n",
       "    </tr>\n",
       "    <tr>\n",
       "      <th>5540</th>\n",
       "      <td>WILLIAM GRANT &amp; SONS INC</td>\n",
       "      <td>2017-01-02</td>\n",
       "      <td>2017-02-04</td>\n",
       "      <td>9848</td>\n",
       "      <td>202815.78</td>\n",
       "      <td>932.95</td>\n",
       "      <td>NaN</td>\n",
       "      <td>203748.73</td>\n",
       "    </tr>\n",
       "    <tr>\n",
       "      <th>5541</th>\n",
       "      <td>WINE GROUP INC</td>\n",
       "      <td>2017-01-03</td>\n",
       "      <td>2017-02-08</td>\n",
       "      <td>24747</td>\n",
       "      <td>149007.56</td>\n",
       "      <td>819.54</td>\n",
       "      <td>NaN</td>\n",
       "      <td>149827.10</td>\n",
       "    </tr>\n",
       "    <tr>\n",
       "      <th>5542</th>\n",
       "      <td>ZORVINO VINEYARDS</td>\n",
       "      <td>2017-01-05</td>\n",
       "      <td>2017-02-12</td>\n",
       "      <td>437</td>\n",
       "      <td>3608.11</td>\n",
       "      <td>16.60</td>\n",
       "      <td>NaN</td>\n",
       "      <td>3624.71</td>\n",
       "    </tr>\n",
       "  </tbody>\n",
       "</table>\n",
       "<p>5543 rows × 8 columns</p>\n",
       "</div>"
      ],
      "text/plain": [
       "                       VendorName InvoiceDate     PayDate  Quantity  \\\n",
       "0     ALTAMAR BRANDS LLC           2016-01-04  2016-02-16         6   \n",
       "1     AMERICAN VINTAGE BEVERAGE    2016-01-07  2016-02-21        15   \n",
       "2     ATLANTIC IMPORTING COMPANY   2016-01-09  2016-02-16         5   \n",
       "3     BACARDI USA INC              2016-01-12  2016-02-05     10100   \n",
       "4     BANFI PRODUCTS CORP          2016-01-07  2016-02-12      1935   \n",
       "...                           ...         ...         ...       ...   \n",
       "5538  WEIN BAUER INC               2017-01-06  2017-02-10        90   \n",
       "5539  WESTERN SPIRITS BEVERAGE CO  2017-01-10  2017-02-18      4617   \n",
       "5540  WILLIAM GRANT & SONS INC     2017-01-02  2017-02-04      9848   \n",
       "5541  WINE GROUP INC               2017-01-03  2017-02-08     24747   \n",
       "5542  ZORVINO VINEYARDS            2017-01-05  2017-02-12       437   \n",
       "\n",
       "        Dollars  Freight Approval  Total Amount  \n",
       "0        214.26     3.47      NaN        217.73  \n",
       "1        140.55     8.57      NaN        149.12  \n",
       "2        106.60     4.61      NaN        111.21  \n",
       "3     137483.78  2935.20      NaN     140418.98  \n",
       "4      15527.25   429.20      NaN      15956.45  \n",
       "...         ...      ...      ...           ...  \n",
       "5538    1563.00     8.60      NaN       1571.60  \n",
       "5539   37300.48   186.50      NaN      37486.98  \n",
       "5540  202815.78   932.95      NaN     203748.73  \n",
       "5541  149007.56   819.54      NaN     149827.10  \n",
       "5542    3608.11    16.60      NaN       3624.71  \n",
       "\n",
       "[5543 rows x 8 columns]"
      ]
     },
     "execution_count": 62,
     "metadata": {},
     "output_type": "execute_result"
    }
   ],
   "source": [
    "df_InvoiPurchases"
   ]
  },
  {
   "cell_type": "code",
   "execution_count": 63,
   "id": "a34f09bc",
   "metadata": {},
   "outputs": [],
   "source": [
    "df_InvoiPurchases.reset_index(drop=True, inplace=True)"
   ]
  },
  {
   "cell_type": "code",
   "execution_count": 64,
   "id": "ae0f43ba",
   "metadata": {},
   "outputs": [
    {
     "data": {
      "text/plain": [
       "<bound method Series.unique of 0       NaN\n",
       "1       NaN\n",
       "2       NaN\n",
       "3       NaN\n",
       "4       NaN\n",
       "       ... \n",
       "5538    NaN\n",
       "5539    NaN\n",
       "5540    NaN\n",
       "5541    NaN\n",
       "5542    NaN\n",
       "Name: Approval, Length: 5543, dtype: object>"
      ]
     },
     "execution_count": 64,
     "metadata": {},
     "output_type": "execute_result"
    }
   ],
   "source": [
    "df_InvoiPurchases['Approval'].unique"
   ]
  },
  {
   "cell_type": "code",
   "execution_count": 65,
   "id": "427bc779",
   "metadata": {},
   "outputs": [
    {
     "name": "stdout",
     "output_type": "stream",
     "text": [
      "Hight purchase vendor name:- DIAGEO NORTH AMERICA INC    Quantitymax:- 141660\n"
     ]
    }
   ],
   "source": [
    "# high purchase iteam#\n",
    "high_purchasiteam=df_InvoiPurchases.loc[df_InvoiPurchases['Quantity'].idxmax(),'VendorName']\n",
    "# high purchase iteam#\n",
    "high_purchasiteam\n",
    "#max purchase Quantity\n",
    "Quanti_max=df_InvoiPurchases['Quantity'].max()\n",
    "Quanti_max\n",
    "print(\"Hight purchase vendor name:-\",high_purchasiteam,\"Quantitymax:-\",Quanti_max)"
   ]
  },
  {
   "cell_type": "code",
   "execution_count": 66,
   "id": "bed0057f",
   "metadata": {},
   "outputs": [
    {
     "name": "stdout",
     "output_type": "stream",
     "text": [
      "low purchase vendor name:- HOOD RIVER DISTILLERS, Inc. Quantitymin:- 1\n"
     ]
    }
   ],
   "source": [
    "# low purchase iteam#\n",
    "low_purchasiteam=df_InvoiPurchases.loc[df_InvoiPurchases['Quantity'].idxmin(),'VendorName']\n",
    "# low purchase iteam#\n",
    "low_purchasiteam\n",
    "#low purchase Quantity\n",
    "Quanti_min=df_InvoiPurchases['Quantity'].min()\n",
    "Quanti_min\n",
    "print(\"low purchase vendor name:-\",low_purchasiteam,\"Quantitymin:-\",Quanti_min)"
   ]
  },
  {
   "cell_type": "code",
   "execution_count": 67,
   "id": "18ca56be",
   "metadata": {},
   "outputs": [
    {
     "name": "stdout",
     "output_type": "stream",
     "text": [
      "Spend Total Amount:- 24153.480000000003\n"
     ]
    }
   ],
   "source": [
    "Spend_Total_Amount =df_InvoiPurchases.loc[df_InvoiPurchases['VendorName'] == 'HOOD RIVER DISTILLERS, Inc.','Total Amount'].sum()\n",
    "print(\"Spend Total Amount:-\",Spend_Total_Amount)"
   ]
  },
  {
   "cell_type": "code",
   "execution_count": 78,
   "id": "a03fb9d3",
   "metadata": {
    "scrolled": true
   },
   "outputs": [
    {
     "name": "stdout",
     "output_type": "stream",
     "text": [
      "VendorName\n",
      "DIAGEO NORTH AMERICA INC       5459788\n",
      "JIM BEAM BRANDS COMPANY        2737165\n",
      "MARTIGNETTI COMPANIES          2637275\n",
      "CONSTELLATION BRANDS INC       2325892\n",
      "E & J GALLO WINERY             1858260\n",
      "Name: Quantity, dtype: int64\n"
     ]
    },
    {
     "data": {
      "image/png": "[encoded data removed]",
      "text/plain": [
       "<Figure size 640x480 with 1 Axes>"
      ]
     },
     "metadata": {},
     "output_type": "display_data"
    }
   ],
   "source": [
    "# Grouping by VendorName and summing up the Quantity for each vendor\n",
    "vendor_quantity = df_InvoiPurchases.groupby('VendorName')['Quantity'].sum()\n",
    "\n",
    "# Getting the top 5 vendors\n",
    "top_5_vendors = vendor_quantity.nlargest(5)\n",
    "\n",
    "# Displaying the top 5 vendors\n",
    "print(top_5_vendors)\n",
    "\n",
    "# Plotting a bar chart for the top 5 vendors\n",
    "top_5_vendors.plot(kind='bar', xlabel='Vendor', ylabel='Total Quantity', title='Top 5 Vendors by Quantity')\n",
    "plt.show()"
   ]
  },
  {
   "cell_type": "code",
   "execution_count": 79,
   "id": "1c561692",
   "metadata": {},
   "outputs": [
    {
     "data": {
      "image/png": "[encoded data removed]",
      "text/plain": [
       "<Figure size 640x480 with 1 Axes>"
      ]
     },
     "metadata": {},
     "output_type": "display_data"
    }
   ],
   "source": [
    "# Plotting a bar chart for the top 5 vendors total amount\n",
    "top_5_vendors.plot(kind='bar', xlabel='Vendor', ylabel='Total Amount', title='Top 5 Vendors by Quantity')\n",
    "plt.show()"
   ]
  },
  {
   "cell_type": "code",
   "execution_count": null,
   "id": "2913bf53",
   "metadata": {},
   "outputs": [],
   "source": []
  },
  {
   "cell_type": "code",
   "execution_count": null,
   "id": "56a39779",
   "metadata": {},
   "outputs": [],
   "source": []
  }
 ],
 "metadata": {
  "kernelspec": {
   "display_name": "Python 3 (ipykernel)",
   "language": "python",
   "name": "python3"
  },
  "language_info": {
   "codemirror_mode": {
    "name": "ipython",
    "version": 3
   },
   "file_extension": ".py",
   "mimetype": "text/x-python",
   "name": "python",
   "nbconvert_exporter": "python",
   "pygments_lexer": "ipython3",
   "version": "3.11.5"
  }
 },
 "nbformat": 4,
 "nbformat_minor": 5
}
